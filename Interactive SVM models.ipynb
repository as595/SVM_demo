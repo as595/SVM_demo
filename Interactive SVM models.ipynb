{
 "cells": [
  {
   "cell_type": "markdown",
   "metadata": {},
   "source": [
    "## Example Support Vector Machines\n",
    "### 2-class, 2-feature interactive demo\n",
    "\n",
    "This demo allows you to play with 2 SVM kernels: the linear and Radial Basis Function (RBF). Use the sliders to vary the cost (C) and the gaussian RBF free parameter ($\\gamma$). Note that changing $\\gamma$ with a linear kernel has no effect (although parameter values will change as the data are re-generated each time)"
   ]
  },
  {
   "cell_type": "code",
   "execution_count": null,
   "metadata": {
    "collapsed": false
   },
   "outputs": [],
   "source": [
    "# widgets imports\n",
    "import ipywidgets as ipw\n",
    "import ipySVM\n",
    "\n",
    "out=ipw.interactive_output(ipySVM.sim,{'numSamples':ipySVM.s1,\n",
    "                                       'clusterSD':ipySVM.s2,\n",
    "                                       'cost':ipySVM.s3,\n",
    "                                       'gamma':ipySVM.s4,\n",
    "                                       'kernel':ipySVM.dd1})\n",
    "out.layout.width = '100%'\n",
    "ipw.HBox([ipw.VBox([ipySVM.s1, ipySVM.s2, ipySVM.s3,ipySVM.s4,ipySVM.dd1]),out])"
   ]
  }
 ],
 "metadata": {
  "kernelspec": {
   "display_name": "Python 3",
   "language": "python",
   "name": "python3"
  },
  "language_info": {
   "codemirror_mode": {
    "name": "ipython",
    "version": 3
   },
   "file_extension": ".py",
   "mimetype": "text/x-python",
   "name": "python",
   "nbconvert_exporter": "python",
   "pygments_lexer": "ipython3",
   "version": "3.5.5"
  }
 },
 "nbformat": 4,
 "nbformat_minor": 2
}
